{
 "cells": [
  {
   "cell_type": "code",
   "execution_count": null,
   "metadata": {},
   "outputs": [
    {
     "name": "stderr",
     "output_type": "stream",
     "text": [
      "UsageError: Line magic function `%%capture` not found.\n"
     ]
    }
   ],
   "source": [
    "##%%\n",
    "\n",
    "import pandas as pd\n",
    "import numpy as np\n",
    "%%capture"
   ]
  },
  {
   "cell_type": "code",
   "execution_count": null,
   "metadata": {},
   "outputs": [
    {
     "ename": "",
     "evalue": "",
     "output_type": "error",
     "traceback": [
      "\u001B[1;31mCell was canceled due to an error in a previous cell."
     ]
    }
   ],
   "source": [
    "##%%\n",
    "\n",
    "# Load the data\n",
    "data = pd.read_csv('train.csv')\n",
    "data.head()"
   ]
  },
  {
   "cell_type": "code",
   "execution_count": null,
   "metadata": {},
   "outputs": [
    {
     "ename": "",
     "evalue": "",
     "output_type": "error",
     "traceback": [
      "\u001B[1;31mCell was canceled due to an error in a previous cell."
     ]
    }
   ],
   "source": [
    "##%%\n",
    "\n",
    "# print the columns of the data\n",
    "data.columns"
   ]
  },
  {
   "cell_type": "code",
   "execution_count": null,
   "metadata": {},
   "outputs": [
    {
     "ename": "",
     "evalue": "",
     "output_type": "error",
     "traceback": [
      "\u001B[1;31mCell was canceled due to an error in a previous cell."
     ]
    }
   ],
   "source": [
    "# %%\n",
    "\n",
    "data.info()"
   ]
  },
  {
   "cell_type": "code",
   "execution_count": null,
   "metadata": {},
   "outputs": [
    {
     "ename": "",
     "evalue": "",
     "output_type": "error",
     "traceback": [
      "\u001B[1;31mCell was canceled due to an error in a previous cell."
     ]
    }
   ],
   "source": [
    "##%%\n",
    "\n",
    "vc = data[\"make\"].value_counts()\n",
    "for i in range(0, len(vc), 10):\n",
    "    print(vc[i:i+10])"
   ]
  },
  {
   "cell_type": "code",
   "execution_count": null,
   "metadata": {},
   "outputs": [
    {
     "ename": "",
     "evalue": "",
     "output_type": "error",
     "traceback": [
      "\u001B[1;31mCell was canceled due to an error in a previous cell."
     ]
    }
   ],
   "source": [
    "# %%\n",
    "\n",
    "# check for missing values\n",
    "data.isnull().sum()"
   ]
  },
  {
   "cell_type": "code",
   "execution_count": null,
   "metadata": {},
   "outputs": [
    {
     "ename": "",
     "evalue": "",
     "output_type": "error",
     "traceback": [
      "\u001B[1;31mCell was canceled due to an error in a previous cell."
     ]
    }
   ],
   "source": [
    "# %%\n",
    "\n",
    "# check for duplicates\n",
    "data.duplicated().sum()"
   ]
  },
  {
   "cell_type": "code",
   "execution_count": null,
   "metadata": {},
   "outputs": [
    {
     "ename": "",
     "evalue": "",
     "output_type": "error",
     "traceback": [
      "\u001B[1;31mCell was canceled due to an error in a previous cell."
     ]
    }
   ],
   "source": [
    "# %%\n",
    "\n",
    "# subset all the float columns\n",
    "data_float = data.select_dtypes(include=['float64'])"
   ]
  },
  {
   "cell_type": "code",
   "execution_count": null,
   "metadata": {},
   "outputs": [
    {
     "ename": "",
     "evalue": "",
     "output_type": "error",
     "traceback": [
      "\u001B[1;31mCell was canceled due to an error in a previous cell."
     ]
    }
   ],
   "source": [
    "# %%\n",
    "\n",
    "# remove col indicative_price\n",
    "data_float = data_float.drop('indicative_price', axis=1)"
   ]
  },
  {
   "cell_type": "code",
   "execution_count": null,
   "metadata": {},
   "outputs": [
    {
     "ename": "",
     "evalue": "",
     "output_type": "error",
     "traceback": [
      "\u001B[1;31mCell was canceled due to an error in a previous cell."
     ]
    }
   ],
   "source": [
    "# %%\n",
    "\n",
    "data_float.shape"
   ]
  },
  {
   "cell_type": "code",
   "execution_count": null,
   "metadata": {},
   "outputs": [
    {
     "ename": "",
     "evalue": "",
     "output_type": "error",
     "traceback": [
      "\u001B[1;31mCell was canceled due to an error in a previous cell."
     ]
    }
   ],
   "source": [
    "# %%\n",
    "\n",
    "# check for missing values\n",
    "data_float.isnull().sum()"
   ]
  },
  {
   "cell_type": "code",
   "execution_count": null,
   "metadata": {},
   "outputs": [
    {
     "ename": "",
     "evalue": "",
     "output_type": "error",
     "traceback": [
      "\u001B[1;31mCell was canceled due to an error in a previous cell."
     ]
    }
   ],
   "source": [
    "# %%\n",
    "\n",
    "# drop na values\n",
    "data_float = data_float.dropna()"
   ]
  },
  {
   "cell_type": "code",
   "execution_count": null,
   "metadata": {},
   "outputs": [
    {
     "ename": "",
     "evalue": "",
     "output_type": "error",
     "traceback": [
      "\u001B[1;31mCell was canceled due to an error in a previous cell."
     ]
    }
   ],
   "source": [
    "# %%\n",
    "\n",
    "data_float.shape"
   ]
  },
  {
   "cell_type": "code",
   "execution_count": null,
   "metadata": {},
   "outputs": [
    {
     "ename": "",
     "evalue": "",
     "output_type": "error",
     "traceback": [
      "\u001B[1;31mCell was canceled due to an error in a previous cell."
     ]
    }
   ],
   "source": [
    "# %%\n",
    "\n",
    "# make a linear regression model\n",
    "from sklearn.linear_model import LinearRegression\n",
    "from sklearn.model_selection import train_test_split\n",
    "# use standard scaler to scale the data\n",
    "from sklearn.preprocessing import StandardScaler"
   ]
  },
  {
   "cell_type": "code",
   "execution_count": null,
   "metadata": {},
   "outputs": [
    {
     "ename": "",
     "evalue": "",
     "output_type": "error",
     "traceback": [
      "\u001B[1;31mCell was canceled due to an error in a previous cell."
     ]
    }
   ],
   "source": [
    "# %%\n",
    "\n",
    "# make a linear regression model\n",
    "from sklearn.linear_model import LinearRegression\n",
    "from sklearn.model_selection import train_test_split\n",
    "# use standard scaler to scale the data\n",
    "from sklearn.preprocessing import StandardScaler"
   ]
  },
  {
   "cell_type": "code",
   "execution_count": null,
   "metadata": {},
   "outputs": [
    {
     "ename": "",
     "evalue": "",
     "output_type": "error",
     "traceback": [
      "\u001B[1;31mCell was canceled due to an error in a previous cell."
     ]
    }
   ],
   "source": [
    "# %%\n",
    "\n",
    "X = data_float.drop('price', axis=1)\n",
    "y = data_float['price']\n",
    "\n",
    "ss = StandardScaler()\n",
    "X_scaled = ss.fit_transform(X)\n",
    "\n",
    "model = LinearRegression()\n",
    "model.fit(X_scaled, y)"
   ]
  },
  {
   "cell_type": "code",
   "execution_count": null,
   "metadata": {},
   "outputs": [
    {
     "ename": "",
     "evalue": "",
     "output_type": "error",
     "traceback": [
      "\u001B[1;31mCell was canceled due to an error in a previous cell."
     ]
    }
   ],
   "source": [
    "# %%\n",
    "\n",
    "test_data = pd.read_csv('test.csv')\n",
    "test_data.head()"
   ]
  },
  {
   "cell_type": "code",
   "execution_count": null,
   "metadata": {},
   "outputs": [
    {
     "ename": "",
     "evalue": "",
     "output_type": "error",
     "traceback": [
      "\u001B[1;31mCell was canceled due to an error in a previous cell."
     ]
    }
   ],
   "source": [
    "# %%\n",
    "\n",
    "# select col the same as X_train\n",
    "X_test = test_data[X.columns]\n",
    "X_test = X_test.fillna(X_test.mean())\n",
    "X_test_scaled = ss.transform(X_test)"
   ]
  },
  {
   "cell_type": "code",
   "execution_count": null,
   "metadata": {},
   "outputs": [
    {
     "ename": "",
     "evalue": "",
     "output_type": "error",
     "traceback": [
      "\u001B[1;31mCell was canceled due to an error in a previous cell."
     ]
    }
   ],
   "source": [
    "# %%\n",
    "\n",
    "y_test_pred = model.predict(X_test_scaled)\n",
    "y_test_pred"
   ]
  },
  {
   "cell_type": "code",
   "execution_count": null,
   "metadata": {},
   "outputs": [
    {
     "ename": "",
     "evalue": "",
     "output_type": "error",
     "traceback": [
      "\u001B[1;31mCell was canceled due to an error in a previous cell."
     ]
    }
   ],
   "source": [
    "# %%\n",
    "\n",
    "# save the prediction as Id, Predicted DataFrame, Id begins with 0\n",
    "\n",
    "\n",
    "output = pd.DataFrame({'Id': list(range(len(y_test_pred))), 'Predicted': y_test_pred})"
   ]
  },
  {
   "cell_type": "code",
   "execution_count": null,
   "metadata": {},
   "outputs": [
    {
     "ename": "",
     "evalue": "",
     "output_type": "error",
     "traceback": [
      "\u001B[1;31mCell was canceled due to an error in a previous cell."
     ]
    }
   ],
   "source": [
    "# %%\n",
    "\n",
    "output.to_csv('submission.csv', index=False)"
   ]
  },
  {
   "cell_type": "code",
   "execution_count": null,
   "metadata": {},
   "outputs": [],
   "source": [
    "##%%\n",
    "\n",
    "import pandas as pd\n",
    "import numpy as np"
   ]
  },
  {
   "cell_type": "code",
   "execution_count": null,
   "metadata": {},
   "outputs": [
    {
     "data": {
      "text/html": [
       "<div>\n",
       "<style scoped>\n",
       "    .dataframe tbody tr th:only-of-type {\n",
       "        vertical-align: middle;\n",
       "    }\n",
       "\n",
       "    .dataframe tbody tr th {\n",
       "        vertical-align: top;\n",
       "    }\n",
       "\n",
       "    .dataframe thead th {\n",
       "        text-align: right;\n",
       "    }\n",
       "</style>\n",
       "<table border=\"1\" class=\"dataframe\">\n",
       "  <thead>\n",
       "    <tr style=\"text-align: right;\">\n",
       "      <th></th>\n",
       "      <th>listing_id</th>\n",
       "      <th>title</th>\n",
       "      <th>make</th>\n",
       "      <th>model</th>\n",
       "      <th>description</th>\n",
       "      <th>manufactured</th>\n",
       "      <th>original_reg_date</th>\n",
       "      <th>reg_date</th>\n",
       "      <th>type_of_vehicle</th>\n",
       "      <th>category</th>\n",
       "      <th>...</th>\n",
       "      <th>mileage</th>\n",
       "      <th>omv</th>\n",
       "      <th>arf</th>\n",
       "      <th>opc_scheme</th>\n",
       "      <th>lifespan</th>\n",
       "      <th>eco_category</th>\n",
       "      <th>features</th>\n",
       "      <th>accessories</th>\n",
       "      <th>indicative_price</th>\n",
       "      <th>price</th>\n",
       "    </tr>\n",
       "  </thead>\n",
       "  <tbody>\n",
       "    <tr>\n",
       "      <th>0</th>\n",
       "      <td>1292132</td>\n",
       "      <td>Land Rover Range Rover Velar 3.0A Si6 R-Dynami...</td>\n",
       "      <td>land rover</td>\n",
       "      <td>range</td>\n",
       "      <td>1 owner, no repairs needed! it looks great, in...</td>\n",
       "      <td>2018.0</td>\n",
       "      <td>NaN</td>\n",
       "      <td>08-mar-2018</td>\n",
       "      <td>suv</td>\n",
       "      <td>parf car</td>\n",
       "      <td>...</td>\n",
       "      <td>96000.0</td>\n",
       "      <td>88906.0</td>\n",
       "      <td>132031.0</td>\n",
       "      <td>NaN</td>\n",
       "      <td>NaN</td>\n",
       "      <td>uncategorized</td>\n",
       "      <td>3l supercharged v6 p380 engine at 375bhp/450nm...</td>\n",
       "      <td>2 x massage/memory/cooling &amp; warmer seat, rear...</td>\n",
       "      <td>NaN</td>\n",
       "      <td>193788.0</td>\n",
       "    </tr>\n",
       "    <tr>\n",
       "      <th>1</th>\n",
       "      <td>1294696</td>\n",
       "      <td>Mercedes-Benz C-Class C200 Sport Premium Sunroof</td>\n",
       "      <td>mercedes-benz</td>\n",
       "      <td>c200</td>\n",
       "      <td>rare beautiful white c200 sport premium sunroo...</td>\n",
       "      <td>2017.0</td>\n",
       "      <td>NaN</td>\n",
       "      <td>28-dec-2017</td>\n",
       "      <td>luxury sedan</td>\n",
       "      <td>parf car, premium ad car</td>\n",
       "      <td>...</td>\n",
       "      <td>85680.0</td>\n",
       "      <td>40678.0</td>\n",
       "      <td>43950.0</td>\n",
       "      <td>NaN</td>\n",
       "      <td>NaN</td>\n",
       "      <td>uncategorized</td>\n",
       "      <td>2.0l 4 cylinders inline turbocharged engine, p...</td>\n",
       "      <td>multi function steering, electric tailgate, re...</td>\n",
       "      <td>NaN</td>\n",
       "      <td>96800.0</td>\n",
       "    </tr>\n",
       "    <tr>\n",
       "      <th>2</th>\n",
       "      <td>1311717</td>\n",
       "      <td>Honda Odyssey 2.4A (COE till 09/2027)</td>\n",
       "      <td>honda</td>\n",
       "      <td>odyssey</td>\n",
       "      <td>comes with warranty. full service done.</td>\n",
       "      <td>2007.0</td>\n",
       "      <td>NaN</td>\n",
       "      <td>19-sep-2007</td>\n",
       "      <td>mpv</td>\n",
       "      <td>coe car, premium ad car, low mileage car</td>\n",
       "      <td>...</td>\n",
       "      <td>138000.0</td>\n",
       "      <td>27994.0</td>\n",
       "      <td>30794.0</td>\n",
       "      <td>NaN</td>\n",
       "      <td>NaN</td>\n",
       "      <td>uncategorized</td>\n",
       "      <td>2.4l k24a 4 cylinders inline dohc i-vtec, 5 sp...</td>\n",
       "      <td>cruise control, touchscreen audio, reverse cam...</td>\n",
       "      <td>NaN</td>\n",
       "      <td>39800.0</td>\n",
       "    </tr>\n",
       "    <tr>\n",
       "      <th>3</th>\n",
       "      <td>1310068</td>\n",
       "      <td>Toyota Corolla Altis 1.6A (COE till 12/2028)</td>\n",
       "      <td>toyota</td>\n",
       "      <td>altis</td>\n",
       "      <td>0</td>\n",
       "      <td>2008.0</td>\n",
       "      <td>NaN</td>\n",
       "      <td>15-dec-2008</td>\n",
       "      <td>mid-sized sedan</td>\n",
       "      <td>coe car, premium ad car</td>\n",
       "      <td>...</td>\n",
       "      <td>160000.0</td>\n",
       "      <td>16084.0</td>\n",
       "      <td>16084.0</td>\n",
       "      <td>NaN</td>\n",
       "      <td>NaN</td>\n",
       "      <td>uncategorized</td>\n",
       "      <td>super fuel efficient 1.6l 16 valves dohc vvt-i...</td>\n",
       "      <td>leather seats, pioneer dvd audio system with r...</td>\n",
       "      <td>NaN</td>\n",
       "      <td>44800.0</td>\n",
       "    </tr>\n",
       "    <tr>\n",
       "      <th>4</th>\n",
       "      <td>1325280</td>\n",
       "      <td>Lexus GS300 (COE till 06/2026)</td>\n",
       "      <td>lexus</td>\n",
       "      <td>gs</td>\n",
       "      <td>wear and tear done up. well maintained and reg...</td>\n",
       "      <td>2006.0</td>\n",
       "      <td>NaN</td>\n",
       "      <td>22-dec-2006</td>\n",
       "      <td>luxury sedan</td>\n",
       "      <td>coe car, premium ad car</td>\n",
       "      <td>...</td>\n",
       "      <td>183000.0</td>\n",
       "      <td>50414.0</td>\n",
       "      <td>55456.0</td>\n",
       "      <td>NaN</td>\n",
       "      <td>NaN</td>\n",
       "      <td>uncategorized</td>\n",
       "      <td>powerful 3.0l v6 engine, 227bhp, 6 speed , key...</td>\n",
       "      <td>premium upholstery electric seats. memory seat...</td>\n",
       "      <td>NaN</td>\n",
       "      <td>25800.0</td>\n",
       "    </tr>\n",
       "  </tbody>\n",
       "</table>\n",
       "<p>5 rows × 30 columns</p>\n",
       "</div>"
      ],
      "text/plain": [
       "   listing_id                                              title  \\\n",
       "0     1292132  Land Rover Range Rover Velar 3.0A Si6 R-Dynami...   \n",
       "1     1294696   Mercedes-Benz C-Class C200 Sport Premium Sunroof   \n",
       "2     1311717              Honda Odyssey 2.4A (COE till 09/2027)   \n",
       "3     1310068       Toyota Corolla Altis 1.6A (COE till 12/2028)   \n",
       "4     1325280                     Lexus GS300 (COE till 06/2026)   \n",
       "\n",
       "            make    model                                        description  \\\n",
       "0     land rover    range  1 owner, no repairs needed! it looks great, in...   \n",
       "1  mercedes-benz     c200  rare beautiful white c200 sport premium sunroo...   \n",
       "2          honda  odyssey            comes with warranty. full service done.   \n",
       "3         toyota    altis                                                  0   \n",
       "4          lexus       gs  wear and tear done up. well maintained and reg...   \n",
       "\n",
       "   manufactured original_reg_date     reg_date  type_of_vehicle  \\\n",
       "0        2018.0               NaN  08-mar-2018              suv   \n",
       "1        2017.0               NaN  28-dec-2017     luxury sedan   \n",
       "2        2007.0               NaN  19-sep-2007              mpv   \n",
       "3        2008.0               NaN  15-dec-2008  mid-sized sedan   \n",
       "4        2006.0               NaN  22-dec-2006     luxury sedan   \n",
       "\n",
       "                                   category  ...   mileage      omv       arf  \\\n",
       "0                                  parf car  ...   96000.0  88906.0  132031.0   \n",
       "1                  parf car, premium ad car  ...   85680.0  40678.0   43950.0   \n",
       "2  coe car, premium ad car, low mileage car  ...  138000.0  27994.0   30794.0   \n",
       "3                   coe car, premium ad car  ...  160000.0  16084.0   16084.0   \n",
       "4                   coe car, premium ad car  ...  183000.0  50414.0   55456.0   \n",
       "\n",
       "  opc_scheme  lifespan   eco_category  \\\n",
       "0        NaN       NaN  uncategorized   \n",
       "1        NaN       NaN  uncategorized   \n",
       "2        NaN       NaN  uncategorized   \n",
       "3        NaN       NaN  uncategorized   \n",
       "4        NaN       NaN  uncategorized   \n",
       "\n",
       "                                            features  \\\n",
       "0  3l supercharged v6 p380 engine at 375bhp/450nm...   \n",
       "1  2.0l 4 cylinders inline turbocharged engine, p...   \n",
       "2  2.4l k24a 4 cylinders inline dohc i-vtec, 5 sp...   \n",
       "3  super fuel efficient 1.6l 16 valves dohc vvt-i...   \n",
       "4  powerful 3.0l v6 engine, 227bhp, 6 speed , key...   \n",
       "\n",
       "                                         accessories  indicative_price  \\\n",
       "0  2 x massage/memory/cooling & warmer seat, rear...               NaN   \n",
       "1  multi function steering, electric tailgate, re...               NaN   \n",
       "2  cruise control, touchscreen audio, reverse cam...               NaN   \n",
       "3  leather seats, pioneer dvd audio system with r...               NaN   \n",
       "4  premium upholstery electric seats. memory seat...               NaN   \n",
       "\n",
       "      price  \n",
       "0  193788.0  \n",
       "1   96800.0  \n",
       "2   39800.0  \n",
       "3   44800.0  \n",
       "4   25800.0  \n",
       "\n",
       "[5 rows x 30 columns]"
      ]
     },
     "execution_count": 3,
     "metadata": {},
     "output_type": "execute_result"
    }
   ],
   "source": [
    "##%%\n",
    "\n",
    "# Load the data\n",
    "data = pd.read_csv('train.csv')\n",
    "data.head()"
   ]
  },
  {
   "cell_type": "code",
   "execution_count": null,
   "metadata": {},
   "outputs": [
    {
     "data": {
      "text/plain": [
       "Index(['listing_id', 'title', 'make', 'model', 'description', 'manufactured',\n",
       "       'original_reg_date', 'reg_date', 'type_of_vehicle', 'category',\n",
       "       'transmission', 'curb_weight', 'power', 'fuel_type', 'engine_cap',\n",
       "       'no_of_owners', 'depreciation', 'coe', 'road_tax', 'dereg_value',\n",
       "       'mileage', 'omv', 'arf', 'opc_scheme', 'lifespan', 'eco_category',\n",
       "       'features', 'accessories', 'indicative_price', 'price'],\n",
       "      dtype='object')"
      ]
     },
     "execution_count": 4,
     "metadata": {},
     "output_type": "execute_result"
    }
   ],
   "source": [
    "##%%\n",
    "\n",
    "# print the columns of the data\n",
    "data.columns"
   ]
  },
  {
   "cell_type": "code",
   "execution_count": null,
   "metadata": {},
   "outputs": [
    {
     "name": "stdout",
     "output_type": "stream",
     "text": [
      "<class 'pandas.core.frame.DataFrame'>\n",
      "RangeIndex: 25000 entries, 0 to 24999\n",
      "Data columns (total 30 columns):\n",
      " #   Column             Non-Null Count  Dtype  \n",
      "---  ------             --------------  -----  \n",
      " 0   listing_id         25000 non-null  int64  \n",
      " 1   title              25000 non-null  object \n",
      " 2   make               23684 non-null  object \n",
      " 3   model              25000 non-null  object \n",
      " 4   description        24320 non-null  object \n",
      " 5   manufactured       24993 non-null  float64\n",
      " 6   original_reg_date  255 non-null    object \n",
      " 7   reg_date           25000 non-null  object \n",
      " 8   type_of_vehicle    25000 non-null  object \n",
      " 9   category           25000 non-null  object \n",
      " 10  transmission       25000 non-null  object \n",
      " 11  curb_weight        24693 non-null  float64\n",
      " 12  power              22360 non-null  float64\n",
      " 13  fuel_type          5879 non-null   object \n",
      " 14  engine_cap         24404 non-null  float64\n",
      " 15  no_of_owners       24982 non-null  float64\n",
      " 16  depreciation       24493 non-null  float64\n",
      " 17  coe                25000 non-null  int64  \n",
      " 18  road_tax           22368 non-null  float64\n",
      " 19  dereg_value        24780 non-null  float64\n",
      " 20  mileage            19696 non-null  float64\n",
      " 21  omv                24936 non-null  float64\n",
      " 22  arf                24826 non-null  float64\n",
      " 23  opc_scheme         162 non-null    object \n",
      " 24  lifespan           2329 non-null   object \n",
      " 25  eco_category       25000 non-null  object \n",
      " 26  features           24157 non-null  object \n",
      " 27  accessories        21187 non-null  object \n",
      " 28  indicative_price   0 non-null      float64\n",
      " 29  price              25000 non-null  float64\n",
      "dtypes: float64(13), int64(2), object(15)\n",
      "memory usage: 5.7+ MB\n"
     ]
    }
   ],
   "source": [
    "# %%\n",
    "\n",
    "data.info()"
   ]
  },
  {
   "cell_type": "code",
   "execution_count": null,
   "metadata": {},
   "outputs": [
    {
     "name": "stdout",
     "output_type": "stream",
     "text": [
      "make\n",
      "toyota           3150\n",
      "mercedes-benz    3019\n",
      "bmw              2627\n",
      "honda            2466\n",
      "nissan           1355\n",
      "audi             1176\n",
      "volkswagen       1068\n",
      "mazda             926\n",
      "mitsubishi        887\n",
      "porsche           701\n",
      "Name: count, dtype: int64\n",
      "make\n",
      "hyundai       654\n",
      "kia           627\n",
      "subaru        436\n",
      "lexus         418\n",
      "volvo         344\n",
      "mini          265\n",
      "suzuki        247\n",
      "citroen       225\n",
      "jaguar        215\n",
      "land rover    215\n",
      "Name: count, dtype: int64\n",
      "make\n",
      "renault        190\n",
      "opel           186\n",
      "peugeot        182\n",
      "maserati       179\n",
      "ferrari        150\n",
      "bentley        148\n",
      "skoda          123\n",
      "isuzu          118\n",
      "rolls-royce    108\n",
      "byd            105\n",
      "Name: count, dtype: int64\n",
      "make\n",
      "ford           101\n",
      "hino            90\n",
      "lamborghini     89\n",
      "chevrolet       79\n",
      "tesla           79\n",
      "mg              78\n",
      "infiniti        76\n",
      "seat            68\n",
      "fiat            53\n",
      "ssangyong       52\n",
      "Name: count, dtype: int64\n",
      "make\n",
      "aston martin    43\n",
      "mclaren         39\n",
      "jeep            33\n",
      "alfa romeo      30\n",
      "polestar        21\n",
      "lotus           20\n",
      "shineray        18\n",
      "ud              16\n",
      "daihatsu        16\n",
      "maxus           14\n",
      "Name: count, dtype: int64\n",
      "make\n",
      "scania           12\n",
      "perodua          11\n",
      "austin           10\n",
      "sokon             9\n",
      "golden dragon     9\n",
      "dfsk              8\n",
      "higer             6\n",
      "morris            6\n",
      "ds                6\n",
      "iveco             5\n",
      "Name: count, dtype: int64\n",
      "make\n",
      "alpine       5\n",
      "foton        5\n",
      "morgan       5\n",
      "yutong       4\n",
      "proton       4\n",
      "camc         3\n",
      "ruf          3\n",
      "king long    3\n",
      "triumph      3\n",
      "mitsuoka     3\n",
      "Name: count, dtype: int64\n",
      "make\n",
      "chrysler    3\n",
      "hummer      3\n",
      "man         3\n",
      "smart       3\n",
      "datsun      2\n",
      "sc          2\n",
      "cadillac    2\n",
      "cupra       2\n",
      "srm         2\n",
      "sunbeam     2\n",
      "Name: count, dtype: int64\n",
      "make\n",
      "aion             1\n",
      "valiant          1\n",
      "sinotruk         1\n",
      "pontiac          1\n",
      "bertone          1\n",
      "joylong          1\n",
      "international    1\n",
      "range            1\n",
      "kyc              1\n",
      "ora              1\n",
      "Name: count, dtype: int64\n",
      "make\n",
      "rover      1\n",
      "saab       1\n",
      "dodge      1\n",
      "daimler    1\n",
      "td         1\n",
      "Name: count, dtype: int64\n"
     ]
    }
   ],
   "source": [
    "##%%\n",
    "\n",
    "vc = data[\"make\"].value_counts()\n",
    "for i in range(0, len(vc), 10):\n",
    "    print(vc[i:i+10])"
   ]
  },
  {
   "cell_type": "code",
   "execution_count": null,
   "metadata": {},
   "outputs": [
    {
     "data": {
      "text/plain": [
       "listing_id               0\n",
       "title                    0\n",
       "make                  1316\n",
       "model                    0\n",
       "description            680\n",
       "manufactured             7\n",
       "original_reg_date    24745\n",
       "reg_date                 0\n",
       "type_of_vehicle          0\n",
       "category                 0\n",
       "transmission             0\n",
       "curb_weight            307\n",
       "power                 2640\n",
       "fuel_type            19121\n",
       "engine_cap             596\n",
       "no_of_owners            18\n",
       "depreciation           507\n",
       "coe                      0\n",
       "road_tax              2632\n",
       "dereg_value            220\n",
       "mileage               5304\n",
       "omv                     64\n",
       "arf                    174\n",
       "opc_scheme           24838\n",
       "lifespan             22671\n",
       "eco_category             0\n",
       "features               843\n",
       "accessories           3813\n",
       "indicative_price     25000\n",
       "price                    0\n",
       "dtype: int64"
      ]
     },
     "execution_count": 7,
     "metadata": {},
     "output_type": "execute_result"
    }
   ],
   "source": [
    "# %%\n",
    "\n",
    "# check for missing values\n",
    "data.isnull().sum()"
   ]
  },
  {
   "cell_type": "code",
   "execution_count": null,
   "metadata": {},
   "outputs": [
    {
     "data": {
      "text/plain": [
       "0"
      ]
     },
     "execution_count": 8,
     "metadata": {},
     "output_type": "execute_result"
    }
   ],
   "source": [
    "# %%\n",
    "\n",
    "# check for duplicates\n",
    "data.duplicated().sum()"
   ]
  },
  {
   "cell_type": "code",
   "execution_count": null,
   "metadata": {},
   "outputs": [],
   "source": [
    "# %%\n",
    "\n",
    "# subset all the float columns\n",
    "data_float = data.select_dtypes(include=['float64'])"
   ]
  },
  {
   "cell_type": "code",
   "execution_count": null,
   "metadata": {},
   "outputs": [],
   "source": [
    "# %%\n",
    "\n",
    "# remove col indicative_price\n",
    "data_float = data_float.drop('indicative_price', axis=1)"
   ]
  },
  {
   "cell_type": "code",
   "execution_count": null,
   "metadata": {},
   "outputs": [
    {
     "data": {
      "text/plain": [
       "(25000, 12)"
      ]
     },
     "execution_count": 11,
     "metadata": {},
     "output_type": "execute_result"
    }
   ],
   "source": [
    "# %%\n",
    "\n",
    "data_float.shape"
   ]
  },
  {
   "cell_type": "code",
   "execution_count": null,
   "metadata": {},
   "outputs": [
    {
     "data": {
      "text/plain": [
       "(25000, 12)"
      ]
     },
     "execution_count": 12,
     "metadata": {},
     "output_type": "execute_result"
    }
   ],
   "source": [
    "# %%\n",
    "\n",
    "data_float.shape"
   ]
  },
  {
   "cell_type": "code",
   "execution_count": null,
   "metadata": {},
   "outputs": [
    {
     "data": {
      "text/plain": [
       "manufactured       7\n",
       "curb_weight      307\n",
       "power           2640\n",
       "engine_cap       596\n",
       "no_of_owners      18\n",
       "depreciation     507\n",
       "road_tax        2632\n",
       "dereg_value      220\n",
       "mileage         5304\n",
       "omv               64\n",
       "arf              174\n",
       "price              0\n",
       "dtype: int64"
      ]
     },
     "execution_count": 13,
     "metadata": {},
     "output_type": "execute_result"
    }
   ],
   "source": [
    "# %%\n",
    "\n",
    "# check for missing values\n",
    "data_float.isnull().sum()"
   ]
  },
  {
   "cell_type": "code",
   "execution_count": null,
   "metadata": {},
   "outputs": [],
   "source": [
    "# %%\n",
    "\n",
    "# drop na values\n",
    "data_float = data_float.dropna()"
   ]
  },
  {
   "cell_type": "code",
   "execution_count": null,
   "metadata": {},
   "outputs": [
    {
     "data": {
      "text/plain": [
       "(17982, 12)"
      ]
     },
     "execution_count": 15,
     "metadata": {},
     "output_type": "execute_result"
    }
   ],
   "source": [
    "# %%\n",
    "\n",
    "data_float.shape"
   ]
  },
  {
   "cell_type": "code",
   "execution_count": null,
   "metadata": {},
   "outputs": [],
   "source": [
    "# %%\n",
    "\n",
    "# make a linear regression model\n",
    "from sklearn.linear_model import LinearRegression\n",
    "from sklearn.model_selection import train_test_split\n",
    "# use standard scaler to scale the data\n",
    "from sklearn.preprocessing import StandardScaler"
   ]
  },
  {
   "cell_type": "code",
   "execution_count": null,
   "metadata": {},
   "outputs": [
    {
     "data": {
      "text/html": [
       "<style>#sk-container-id-1 {\n",
       "  /* Definition of color scheme common for light and dark mode */\n",
       "  --sklearn-color-text: black;\n",
       "  --sklearn-color-line: gray;\n",
       "  /* Definition of color scheme for unfitted estimators */\n",
       "  --sklearn-color-unfitted-level-0: #fff5e6;\n",
       "  --sklearn-color-unfitted-level-1: #f6e4d2;\n",
       "  --sklearn-color-unfitted-level-2: #ffe0b3;\n",
       "  --sklearn-color-unfitted-level-3: chocolate;\n",
       "  /* Definition of color scheme for fitted estimators */\n",
       "  --sklearn-color-fitted-level-0: #f0f8ff;\n",
       "  --sklearn-color-fitted-level-1: #d4ebff;\n",
       "  --sklearn-color-fitted-level-2: #b3dbfd;\n",
       "  --sklearn-color-fitted-level-3: cornflowerblue;\n",
       "\n",
       "  /* Specific color for light theme */\n",
       "  --sklearn-color-text-on-default-background: var(--sg-text-color, var(--theme-code-foreground, var(--jp-content-font-color1, black)));\n",
       "  --sklearn-color-background: var(--sg-background-color, var(--theme-background, var(--jp-layout-color0, white)));\n",
       "  --sklearn-color-border-box: var(--sg-text-color, var(--theme-code-foreground, var(--jp-content-font-color1, black)));\n",
       "  --sklearn-color-icon: #696969;\n",
       "\n",
       "  @media (prefers-color-scheme: dark) {\n",
       "    /* Redefinition of color scheme for dark theme */\n",
       "    --sklearn-color-text-on-default-background: var(--sg-text-color, var(--theme-code-foreground, var(--jp-content-font-color1, white)));\n",
       "    --sklearn-color-background: var(--sg-background-color, var(--theme-background, var(--jp-layout-color0, #111)));\n",
       "    --sklearn-color-border-box: var(--sg-text-color, var(--theme-code-foreground, var(--jp-content-font-color1, white)));\n",
       "    --sklearn-color-icon: #878787;\n",
       "  }\n",
       "}\n",
       "\n",
       "#sk-container-id-1 {\n",
       "  color: var(--sklearn-color-text);\n",
       "}\n",
       "\n",
       "#sk-container-id-1 pre {\n",
       "  padding: 0;\n",
       "}\n",
       "\n",
       "#sk-container-id-1 input.sk-hidden--visually {\n",
       "  border: 0;\n",
       "  clip: rect(1px 1px 1px 1px);\n",
       "  clip: rect(1px, 1px, 1px, 1px);\n",
       "  height: 1px;\n",
       "  margin: -1px;\n",
       "  overflow: hidden;\n",
       "  padding: 0;\n",
       "  position: absolute;\n",
       "  width: 1px;\n",
       "}\n",
       "\n",
       "#sk-container-id-1 div.sk-dashed-wrapped {\n",
       "  border: 1px dashed var(--sklearn-color-line);\n",
       "  margin: 0 0.4em 0.5em 0.4em;\n",
       "  box-sizing: border-box;\n",
       "  padding-bottom: 0.4em;\n",
       "  background-color: var(--sklearn-color-background);\n",
       "}\n",
       "\n",
       "#sk-container-id-1 div.sk-container {\n",
       "  /* jupyter's `normalize.less` sets `[hidden] { display: none; }`\n",
       "     but bootstrap.min.css set `[hidden] { display: none !important; }`\n",
       "     so we also need the `!important` here to be able to override the\n",
       "     default hidden behavior on the sphinx rendered scikit-learn.org.\n",
       "     See: https://github.com/scikit-learn/scikit-learn/issues/21755 */\n",
       "  display: inline-block !important;\n",
       "  position: relative;\n",
       "}\n",
       "\n",
       "#sk-container-id-1 div.sk-text-repr-fallback {\n",
       "  display: none;\n",
       "}\n",
       "\n",
       "div.sk-parallel-item,\n",
       "div.sk-serial,\n",
       "div.sk-item {\n",
       "  /* draw centered vertical line to link estimators */\n",
       "  background-image: linear-gradient(var(--sklearn-color-text-on-default-background), var(--sklearn-color-text-on-default-background));\n",
       "  background-size: 2px 100%;\n",
       "  background-repeat: no-repeat;\n",
       "  background-position: center center;\n",
       "}\n",
       "\n",
       "/* Parallel-specific style estimator block */\n",
       "\n",
       "#sk-container-id-1 div.sk-parallel-item::after {\n",
       "  content: \"\";\n",
       "  width: 100%;\n",
       "  border-bottom: 2px solid var(--sklearn-color-text-on-default-background);\n",
       "  flex-grow: 1;\n",
       "}\n",
       "\n",
       "#sk-container-id-1 div.sk-parallel {\n",
       "  display: flex;\n",
       "  align-items: stretch;\n",
       "  justify-content: center;\n",
       "  background-color: var(--sklearn-color-background);\n",
       "  position: relative;\n",
       "}\n",
       "\n",
       "#sk-container-id-1 div.sk-parallel-item {\n",
       "  display: flex;\n",
       "  flex-direction: column;\n",
       "}\n",
       "\n",
       "#sk-container-id-1 div.sk-parallel-item:first-child::after {\n",
       "  align-self: flex-end;\n",
       "  width: 50%;\n",
       "}\n",
       "\n",
       "#sk-container-id-1 div.sk-parallel-item:last-child::after {\n",
       "  align-self: flex-start;\n",
       "  width: 50%;\n",
       "}\n",
       "\n",
       "#sk-container-id-1 div.sk-parallel-item:only-child::after {\n",
       "  width: 0;\n",
       "}\n",
       "\n",
       "/* Serial-specific style estimator block */\n",
       "\n",
       "#sk-container-id-1 div.sk-serial {\n",
       "  display: flex;\n",
       "  flex-direction: column;\n",
       "  align-items: center;\n",
       "  background-color: var(--sklearn-color-background);\n",
       "  padding-right: 1em;\n",
       "  padding-left: 1em;\n",
       "}\n",
       "\n",
       "\n",
       "/* Toggleable style: style used for estimator/Pipeline/ColumnTransformer box that is\n",
       "clickable and can be expanded/collapsed.\n",
       "- Pipeline and ColumnTransformer use this feature and define the default style\n",
       "- Estimators will overwrite some part of the style using the `sk-estimator` class\n",
       "*/\n",
       "\n",
       "/* Pipeline and ColumnTransformer style (default) */\n",
       "\n",
       "#sk-container-id-1 div.sk-toggleable {\n",
       "  /* Default theme specific background. It is overwritten whether we have a\n",
       "  specific estimator or a Pipeline/ColumnTransformer */\n",
       "  background-color: var(--sklearn-color-background);\n",
       "}\n",
       "\n",
       "/* Toggleable label */\n",
       "#sk-container-id-1 label.sk-toggleable__label {\n",
       "  cursor: pointer;\n",
       "  display: block;\n",
       "  width: 100%;\n",
       "  margin-bottom: 0;\n",
       "  padding: 0.5em;\n",
       "  box-sizing: border-box;\n",
       "  text-align: center;\n",
       "}\n",
       "\n",
       "#sk-container-id-1 label.sk-toggleable__label-arrow:before {\n",
       "  /* Arrow on the left of the label */\n",
       "  content: \"▸\";\n",
       "  float: left;\n",
       "  margin-right: 0.25em;\n",
       "  color: var(--sklearn-color-icon);\n",
       "}\n",
       "\n",
       "#sk-container-id-1 label.sk-toggleable__label-arrow:hover:before {\n",
       "  color: var(--sklearn-color-text);\n",
       "}\n",
       "\n",
       "/* Toggleable content - dropdown */\n",
       "\n",
       "#sk-container-id-1 div.sk-toggleable__content {\n",
       "  max-height: 0;\n",
       "  max-width: 0;\n",
       "  overflow: hidden;\n",
       "  text-align: left;\n",
       "  /* unfitted */\n",
       "  background-color: var(--sklearn-color-unfitted-level-0);\n",
       "}\n",
       "\n",
       "#sk-container-id-1 div.sk-toggleable__content.fitted {\n",
       "  /* fitted */\n",
       "  background-color: var(--sklearn-color-fitted-level-0);\n",
       "}\n",
       "\n",
       "#sk-container-id-1 div.sk-toggleable__content pre {\n",
       "  margin: 0.2em;\n",
       "  border-radius: 0.25em;\n",
       "  color: var(--sklearn-color-text);\n",
       "  /* unfitted */\n",
       "  background-color: var(--sklearn-color-unfitted-level-0);\n",
       "}\n",
       "\n",
       "#sk-container-id-1 div.sk-toggleable__content.fitted pre {\n",
       "  /* unfitted */\n",
       "  background-color: var(--sklearn-color-fitted-level-0);\n",
       "}\n",
       "\n",
       "#sk-container-id-1 input.sk-toggleable__control:checked~div.sk-toggleable__content {\n",
       "  /* Expand drop-down */\n",
       "  max-height: 200px;\n",
       "  max-width: 100%;\n",
       "  overflow: auto;\n",
       "}\n",
       "\n",
       "#sk-container-id-1 input.sk-toggleable__control:checked~label.sk-toggleable__label-arrow:before {\n",
       "  content: \"▾\";\n",
       "}\n",
       "\n",
       "/* Pipeline/ColumnTransformer-specific style */\n",
       "\n",
       "#sk-container-id-1 div.sk-label input.sk-toggleable__control:checked~label.sk-toggleable__label {\n",
       "  color: var(--sklearn-color-text);\n",
       "  background-color: var(--sklearn-color-unfitted-level-2);\n",
       "}\n",
       "\n",
       "#sk-container-id-1 div.sk-label.fitted input.sk-toggleable__control:checked~label.sk-toggleable__label {\n",
       "  background-color: var(--sklearn-color-fitted-level-2);\n",
       "}\n",
       "\n",
       "/* Estimator-specific style */\n",
       "\n",
       "/* Colorize estimator box */\n",
       "#sk-container-id-1 div.sk-estimator input.sk-toggleable__control:checked~label.sk-toggleable__label {\n",
       "  /* unfitted */\n",
       "  background-color: var(--sklearn-color-unfitted-level-2);\n",
       "}\n",
       "\n",
       "#sk-container-id-1 div.sk-estimator.fitted input.sk-toggleable__control:checked~label.sk-toggleable__label {\n",
       "  /* fitted */\n",
       "  background-color: var(--sklearn-color-fitted-level-2);\n",
       "}\n",
       "\n",
       "#sk-container-id-1 div.sk-label label.sk-toggleable__label,\n",
       "#sk-container-id-1 div.sk-label label {\n",
       "  /* The background is the default theme color */\n",
       "  color: var(--sklearn-color-text-on-default-background);\n",
       "}\n",
       "\n",
       "/* On hover, darken the color of the background */\n",
       "#sk-container-id-1 div.sk-label:hover label.sk-toggleable__label {\n",
       "  color: var(--sklearn-color-text);\n",
       "  background-color: var(--sklearn-color-unfitted-level-2);\n",
       "}\n",
       "\n",
       "/* Label box, darken color on hover, fitted */\n",
       "#sk-container-id-1 div.sk-label.fitted:hover label.sk-toggleable__label.fitted {\n",
       "  color: var(--sklearn-color-text);\n",
       "  background-color: var(--sklearn-color-fitted-level-2);\n",
       "}\n",
       "\n",
       "/* Estimator label */\n",
       "\n",
       "#sk-container-id-1 div.sk-label label {\n",
       "  font-family: monospace;\n",
       "  font-weight: bold;\n",
       "  display: inline-block;\n",
       "  line-height: 1.2em;\n",
       "}\n",
       "\n",
       "#sk-container-id-1 div.sk-label-container {\n",
       "  text-align: center;\n",
       "}\n",
       "\n",
       "/* Estimator-specific */\n",
       "#sk-container-id-1 div.sk-estimator {\n",
       "  font-family: monospace;\n",
       "  border: 1px dotted var(--sklearn-color-border-box);\n",
       "  border-radius: 0.25em;\n",
       "  box-sizing: border-box;\n",
       "  margin-bottom: 0.5em;\n",
       "  /* unfitted */\n",
       "  background-color: var(--sklearn-color-unfitted-level-0);\n",
       "}\n",
       "\n",
       "#sk-container-id-1 div.sk-estimator.fitted {\n",
       "  /* fitted */\n",
       "  background-color: var(--sklearn-color-fitted-level-0);\n",
       "}\n",
       "\n",
       "/* on hover */\n",
       "#sk-container-id-1 div.sk-estimator:hover {\n",
       "  /* unfitted */\n",
       "  background-color: var(--sklearn-color-unfitted-level-2);\n",
       "}\n",
       "\n",
       "#sk-container-id-1 div.sk-estimator.fitted:hover {\n",
       "  /* fitted */\n",
       "  background-color: var(--sklearn-color-fitted-level-2);\n",
       "}\n",
       "\n",
       "/* Specification for estimator info (e.g. \"i\" and \"?\") */\n",
       "\n",
       "/* Common style for \"i\" and \"?\" */\n",
       "\n",
       ".sk-estimator-doc-link,\n",
       "a:link.sk-estimator-doc-link,\n",
       "a:visited.sk-estimator-doc-link {\n",
       "  float: right;\n",
       "  font-size: smaller;\n",
       "  line-height: 1em;\n",
       "  font-family: monospace;\n",
       "  background-color: var(--sklearn-color-background);\n",
       "  border-radius: 1em;\n",
       "  height: 1em;\n",
       "  width: 1em;\n",
       "  text-decoration: none !important;\n",
       "  margin-left: 1ex;\n",
       "  /* unfitted */\n",
       "  border: var(--sklearn-color-unfitted-level-1) 1pt solid;\n",
       "  color: var(--sklearn-color-unfitted-level-1);\n",
       "}\n",
       "\n",
       ".sk-estimator-doc-link.fitted,\n",
       "a:link.sk-estimator-doc-link.fitted,\n",
       "a:visited.sk-estimator-doc-link.fitted {\n",
       "  /* fitted */\n",
       "  border: var(--sklearn-color-fitted-level-1) 1pt solid;\n",
       "  color: var(--sklearn-color-fitted-level-1);\n",
       "}\n",
       "\n",
       "/* On hover */\n",
       "div.sk-estimator:hover .sk-estimator-doc-link:hover,\n",
       ".sk-estimator-doc-link:hover,\n",
       "div.sk-label-container:hover .sk-estimator-doc-link:hover,\n",
       ".sk-estimator-doc-link:hover {\n",
       "  /* unfitted */\n",
       "  background-color: var(--sklearn-color-unfitted-level-3);\n",
       "  color: var(--sklearn-color-background);\n",
       "  text-decoration: none;\n",
       "}\n",
       "\n",
       "div.sk-estimator.fitted:hover .sk-estimator-doc-link.fitted:hover,\n",
       ".sk-estimator-doc-link.fitted:hover,\n",
       "div.sk-label-container:hover .sk-estimator-doc-link.fitted:hover,\n",
       ".sk-estimator-doc-link.fitted:hover {\n",
       "  /* fitted */\n",
       "  background-color: var(--sklearn-color-fitted-level-3);\n",
       "  color: var(--sklearn-color-background);\n",
       "  text-decoration: none;\n",
       "}\n",
       "\n",
       "/* Span, style for the box shown on hovering the info icon */\n",
       ".sk-estimator-doc-link span {\n",
       "  display: none;\n",
       "  z-index: 9999;\n",
       "  position: relative;\n",
       "  font-weight: normal;\n",
       "  right: .2ex;\n",
       "  padding: .5ex;\n",
       "  margin: .5ex;\n",
       "  width: min-content;\n",
       "  min-width: 20ex;\n",
       "  max-width: 50ex;\n",
       "  color: var(--sklearn-color-text);\n",
       "  box-shadow: 2pt 2pt 4pt #999;\n",
       "  /* unfitted */\n",
       "  background: var(--sklearn-color-unfitted-level-0);\n",
       "  border: .5pt solid var(--sklearn-color-unfitted-level-3);\n",
       "}\n",
       "\n",
       ".sk-estimator-doc-link.fitted span {\n",
       "  /* fitted */\n",
       "  background: var(--sklearn-color-fitted-level-0);\n",
       "  border: var(--sklearn-color-fitted-level-3);\n",
       "}\n",
       "\n",
       ".sk-estimator-doc-link:hover span {\n",
       "  display: block;\n",
       "}\n",
       "\n",
       "/* \"?\"-specific style due to the `<a>` HTML tag */\n",
       "\n",
       "#sk-container-id-1 a.estimator_doc_link {\n",
       "  float: right;\n",
       "  font-size: 1rem;\n",
       "  line-height: 1em;\n",
       "  font-family: monospace;\n",
       "  background-color: var(--sklearn-color-background);\n",
       "  border-radius: 1rem;\n",
       "  height: 1rem;\n",
       "  width: 1rem;\n",
       "  text-decoration: none;\n",
       "  /* unfitted */\n",
       "  color: var(--sklearn-color-unfitted-level-1);\n",
       "  border: var(--sklearn-color-unfitted-level-1) 1pt solid;\n",
       "}\n",
       "\n",
       "#sk-container-id-1 a.estimator_doc_link.fitted {\n",
       "  /* fitted */\n",
       "  border: var(--sklearn-color-fitted-level-1) 1pt solid;\n",
       "  color: var(--sklearn-color-fitted-level-1);\n",
       "}\n",
       "\n",
       "/* On hover */\n",
       "#sk-container-id-1 a.estimator_doc_link:hover {\n",
       "  /* unfitted */\n",
       "  background-color: var(--sklearn-color-unfitted-level-3);\n",
       "  color: var(--sklearn-color-background);\n",
       "  text-decoration: none;\n",
       "}\n",
       "\n",
       "#sk-container-id-1 a.estimator_doc_link.fitted:hover {\n",
       "  /* fitted */\n",
       "  background-color: var(--sklearn-color-fitted-level-3);\n",
       "}\n",
       "</style><div id=\"sk-container-id-1\" class=\"sk-top-container\"><div class=\"sk-text-repr-fallback\"><pre>LinearRegression()</pre><b>In a Jupyter environment, please rerun this cell to show the HTML representation or trust the notebook. <br />On GitHub, the HTML representation is unable to render, please try loading this page with nbviewer.org.</b></div><div class=\"sk-container\" hidden><div class=\"sk-item\"><div class=\"sk-estimator fitted sk-toggleable\"><input class=\"sk-toggleable__control sk-hidden--visually\" id=\"sk-estimator-id-1\" type=\"checkbox\" checked><label for=\"sk-estimator-id-1\" class=\"sk-toggleable__label fitted sk-toggleable__label-arrow fitted\">&nbsp;&nbsp;LinearRegression<a class=\"sk-estimator-doc-link fitted\" rel=\"noreferrer\" target=\"_blank\" href=\"https://scikit-learn.org/1.5/modules/generated/sklearn.linear_model.LinearRegression.html\">?<span>Documentation for LinearRegression</span></a><span class=\"sk-estimator-doc-link fitted\">i<span>Fitted</span></span></label><div class=\"sk-toggleable__content fitted\"><pre>LinearRegression()</pre></div> </div></div></div></div>"
      ],
      "text/plain": [
       "LinearRegression()"
      ]
     },
     "execution_count": 17,
     "metadata": {},
     "output_type": "execute_result"
    }
   ],
   "source": [
    "# %%\n",
    "\n",
    "X = data_float.drop('price', axis=1)\n",
    "y = data_float['price']\n",
    "\n",
    "ss = StandardScaler()\n",
    "X_scaled = ss.fit_transform(X)\n",
    "\n",
    "model = LinearRegression()\n",
    "model.fit(X_scaled, y)"
   ]
  },
  {
   "cell_type": "code",
   "execution_count": null,
   "metadata": {},
   "outputs": [
    {
     "data": {
      "text/html": [
       "<div>\n",
       "<style scoped>\n",
       "    .dataframe tbody tr th:only-of-type {\n",
       "        vertical-align: middle;\n",
       "    }\n",
       "\n",
       "    .dataframe tbody tr th {\n",
       "        vertical-align: top;\n",
       "    }\n",
       "\n",
       "    .dataframe thead th {\n",
       "        text-align: right;\n",
       "    }\n",
       "</style>\n",
       "<table border=\"1\" class=\"dataframe\">\n",
       "  <thead>\n",
       "    <tr style=\"text-align: right;\">\n",
       "      <th></th>\n",
       "      <th>listing_id</th>\n",
       "      <th>title</th>\n",
       "      <th>make</th>\n",
       "      <th>model</th>\n",
       "      <th>description</th>\n",
       "      <th>manufactured</th>\n",
       "      <th>original_reg_date</th>\n",
       "      <th>reg_date</th>\n",
       "      <th>type_of_vehicle</th>\n",
       "      <th>category</th>\n",
       "      <th>...</th>\n",
       "      <th>dereg_value</th>\n",
       "      <th>mileage</th>\n",
       "      <th>omv</th>\n",
       "      <th>arf</th>\n",
       "      <th>opc_scheme</th>\n",
       "      <th>lifespan</th>\n",
       "      <th>eco_category</th>\n",
       "      <th>features</th>\n",
       "      <th>accessories</th>\n",
       "      <th>indicative_price</th>\n",
       "    </tr>\n",
       "  </thead>\n",
       "  <tbody>\n",
       "    <tr>\n",
       "      <th>0</th>\n",
       "      <td>1303772</td>\n",
       "      <td>Honda Vezel 1.5A X</td>\n",
       "      <td>honda</td>\n",
       "      <td>vezel</td>\n",
       "      <td>4614</td>\n",
       "      <td>2015.0</td>\n",
       "      <td>NaN</td>\n",
       "      <td>29-apr-2015</td>\n",
       "      <td>suv</td>\n",
       "      <td>parf car</td>\n",
       "      <td>...</td>\n",
       "      <td>9582.0</td>\n",
       "      <td>112000.0</td>\n",
       "      <td>19229.0</td>\n",
       "      <td>9229.0</td>\n",
       "      <td>NaN</td>\n",
       "      <td>NaN</td>\n",
       "      <td>uncategorized</td>\n",
       "      <td>powerful 1.5l i-vtec engine producing 128bhp, ...</td>\n",
       "      <td>pioneer touch screen with reverse camera, 16\" ...</td>\n",
       "      <td>NaN</td>\n",
       "    </tr>\n",
       "    <tr>\n",
       "      <th>1</th>\n",
       "      <td>1323166</td>\n",
       "      <td>Mazda 3 1.6A SP (COE till 10/2027)</td>\n",
       "      <td>mazda</td>\n",
       "      <td>3</td>\n",
       "      <td>extremely well maintained and in pristine cond...</td>\n",
       "      <td>2007.0</td>\n",
       "      <td>NaN</td>\n",
       "      <td>26-oct-2007</td>\n",
       "      <td>mid-sized sedan</td>\n",
       "      <td>coe car, premium ad car, low mileage car</td>\n",
       "      <td>...</td>\n",
       "      <td>13644.0</td>\n",
       "      <td>120000.0</td>\n",
       "      <td>14347.0</td>\n",
       "      <td>15782.0</td>\n",
       "      <td>NaN</td>\n",
       "      <td>NaN</td>\n",
       "      <td>uncategorized</td>\n",
       "      <td>fuel efficient 1.6l 4-cylinder inline 16-valve...</td>\n",
       "      <td>multi-function steering wheel, keyless entry, ...</td>\n",
       "      <td>NaN</td>\n",
       "    </tr>\n",
       "    <tr>\n",
       "      <th>2</th>\n",
       "      <td>1308405</td>\n",
       "      <td>MINI Cooper S Countryman 2.0A</td>\n",
       "      <td>mini</td>\n",
       "      <td>cooper</td>\n",
       "      <td>1 owner! beautiful island blue color! eurokars...</td>\n",
       "      <td>2019.0</td>\n",
       "      <td>NaN</td>\n",
       "      <td>27-mar-2020</td>\n",
       "      <td>sports car</td>\n",
       "      <td>parf car</td>\n",
       "      <td>...</td>\n",
       "      <td>54818.0</td>\n",
       "      <td>43000.0</td>\n",
       "      <td>39863.0</td>\n",
       "      <td>47809.0</td>\n",
       "      <td>NaN</td>\n",
       "      <td>NaN</td>\n",
       "      <td>uncategorized</td>\n",
       "      <td>output of 141kw, 189bhp at 5000rpm to 6000rpm,...</td>\n",
       "      <td>18\" sports rims, sports leather seats, navigat...</td>\n",
       "      <td>NaN</td>\n",
       "    </tr>\n",
       "    <tr>\n",
       "      <th>3</th>\n",
       "      <td>1216706</td>\n",
       "      <td>Toyota Vios 1.5A G</td>\n",
       "      <td>toyota</td>\n",
       "      <td>vios</td>\n",
       "      <td>fully agent maintain! genuine low mileage at 5...</td>\n",
       "      <td>2019.0</td>\n",
       "      <td>NaN</td>\n",
       "      <td>28-jun-2019</td>\n",
       "      <td>mid-sized sedan</td>\n",
       "      <td>parf car, premium ad car</td>\n",
       "      <td>...</td>\n",
       "      <td>26363.0</td>\n",
       "      <td>53300.0</td>\n",
       "      <td>15573.0</td>\n",
       "      <td>15573.0</td>\n",
       "      <td>NaN</td>\n",
       "      <td>NaN</td>\n",
       "      <td>uncategorized</td>\n",
       "      <td>1.5l 4 cylinder 16 valves dohc vvt-i engine, 7...</td>\n",
       "      <td>push start button, toyota factory player, reve...</td>\n",
       "      <td>NaN</td>\n",
       "    </tr>\n",
       "    <tr>\n",
       "      <th>4</th>\n",
       "      <td>1298206</td>\n",
       "      <td>Mazda 3 HB 1.5A</td>\n",
       "      <td>mazda</td>\n",
       "      <td>3</td>\n",
       "      <td>workshop check/sta evaluation available. accid...</td>\n",
       "      <td>2015.0</td>\n",
       "      <td>NaN</td>\n",
       "      <td>19-nov-2015</td>\n",
       "      <td>hatchback</td>\n",
       "      <td>parf car, premium ad car</td>\n",
       "      <td>...</td>\n",
       "      <td>15197.0</td>\n",
       "      <td>149000.0</td>\n",
       "      <td>18097.0</td>\n",
       "      <td>13097.0</td>\n",
       "      <td>NaN</td>\n",
       "      <td>NaN</td>\n",
       "      <td>uncategorized</td>\n",
       "      <td>1.5l 4 cylinder inline dohc 16 valves skyactiv...</td>\n",
       "      <td>factory fitted audio with audio &amp; multi functi...</td>\n",
       "      <td>NaN</td>\n",
       "    </tr>\n",
       "  </tbody>\n",
       "</table>\n",
       "<p>5 rows × 29 columns</p>\n",
       "</div>"
      ],
      "text/plain": [
       "   listing_id                               title    make   model  \\\n",
       "0     1303772                  Honda Vezel 1.5A X   honda   vezel   \n",
       "1     1323166  Mazda 3 1.6A SP (COE till 10/2027)   mazda       3   \n",
       "2     1308405       MINI Cooper S Countryman 2.0A    mini  cooper   \n",
       "3     1216706                  Toyota Vios 1.5A G  toyota    vios   \n",
       "4     1298206                     Mazda 3 HB 1.5A   mazda       3   \n",
       "\n",
       "                                         description  manufactured  \\\n",
       "0                                               4614        2015.0   \n",
       "1  extremely well maintained and in pristine cond...        2007.0   \n",
       "2  1 owner! beautiful island blue color! eurokars...        2019.0   \n",
       "3  fully agent maintain! genuine low mileage at 5...        2019.0   \n",
       "4  workshop check/sta evaluation available. accid...        2015.0   \n",
       "\n",
       "  original_reg_date     reg_date  type_of_vehicle  \\\n",
       "0               NaN  29-apr-2015              suv   \n",
       "1               NaN  26-oct-2007  mid-sized sedan   \n",
       "2               NaN  27-mar-2020       sports car   \n",
       "3               NaN  28-jun-2019  mid-sized sedan   \n",
       "4               NaN  19-nov-2015        hatchback   \n",
       "\n",
       "                                   category  ... dereg_value   mileage  \\\n",
       "0                                  parf car  ...      9582.0  112000.0   \n",
       "1  coe car, premium ad car, low mileage car  ...     13644.0  120000.0   \n",
       "2                                  parf car  ...     54818.0   43000.0   \n",
       "3                  parf car, premium ad car  ...     26363.0   53300.0   \n",
       "4                  parf car, premium ad car  ...     15197.0  149000.0   \n",
       "\n",
       "       omv      arf  opc_scheme  lifespan   eco_category  \\\n",
       "0  19229.0   9229.0         NaN       NaN  uncategorized   \n",
       "1  14347.0  15782.0         NaN       NaN  uncategorized   \n",
       "2  39863.0  47809.0         NaN       NaN  uncategorized   \n",
       "3  15573.0  15573.0         NaN       NaN  uncategorized   \n",
       "4  18097.0  13097.0         NaN       NaN  uncategorized   \n",
       "\n",
       "                                            features  \\\n",
       "0  powerful 1.5l i-vtec engine producing 128bhp, ...   \n",
       "1  fuel efficient 1.6l 4-cylinder inline 16-valve...   \n",
       "2  output of 141kw, 189bhp at 5000rpm to 6000rpm,...   \n",
       "3  1.5l 4 cylinder 16 valves dohc vvt-i engine, 7...   \n",
       "4  1.5l 4 cylinder inline dohc 16 valves skyactiv...   \n",
       "\n",
       "                                         accessories  indicative_price  \n",
       "0  pioneer touch screen with reverse camera, 16\" ...               NaN  \n",
       "1  multi-function steering wheel, keyless entry, ...               NaN  \n",
       "2  18\" sports rims, sports leather seats, navigat...               NaN  \n",
       "3  push start button, toyota factory player, reve...               NaN  \n",
       "4  factory fitted audio with audio & multi functi...               NaN  \n",
       "\n",
       "[5 rows x 29 columns]"
      ]
     },
     "execution_count": 18,
     "metadata": {},
     "output_type": "execute_result"
    }
   ],
   "source": [
    "# %%\n",
    "\n",
    "test_data = pd.read_csv('test.csv')\n",
    "test_data.head()"
   ]
  },
  {
   "cell_type": "code",
   "execution_count": null,
   "metadata": {},
   "outputs": [],
   "source": [
    "# %%\n",
    "\n",
    "# select col the same as X_train\n",
    "X_test = test_data[X.columns]\n",
    "X_test = X_test.fillna(X_test.mean())\n",
    "X_test_scaled = ss.transform(X_test)"
   ]
  },
  {
   "cell_type": "code",
   "execution_count": null,
   "metadata": {},
   "outputs": [
    {
     "data": {
      "text/plain": [
       "array([ 35930.44792646,  27851.38655658, 131458.92325096, ...,\n",
       "        47612.42153779,  64059.36583365,  39516.65747851])"
      ]
     },
     "execution_count": 20,
     "metadata": {},
     "output_type": "execute_result"
    }
   ],
   "source": [
    "# %%\n",
    "\n",
    "y_test_pred = model.predict(X_test_scaled)\n",
    "y_test_pred"
   ]
  },
  {
   "cell_type": "code",
   "execution_count": null,
   "metadata": {},
   "outputs": [],
   "source": [
    "# %%\n",
    "\n",
    "# save the prediction as Id, Predicted DataFrame, Id begins with 0\n",
    "\n",
    "\n",
    "output = pd.DataFrame({'Id': list(range(len(y_test_pred))), 'Predicted': y_test_pred})"
   ]
  },
  {
   "cell_type": "code",
   "execution_count": null,
   "metadata": {},
   "outputs": [],
   "source": [
    "# %%\n",
    "\n",
    "output.to_csv('submission.csv', index=False)"
   ]
  }
 ],
 "metadata": {
  "language_info": {
   "codemirror_mode": {
    "name": "ipython",
    "version": 3
   },
   "file_extension": ".py",
   "mimetype": "text/x-python",
   "name": "python",
   "nbconvert_exporter": "python",
   "pygments_lexer": "ipython3",
   "version": 3
  }
 },
 "nbformat": 4,
 "nbformat_minor": 2
}
